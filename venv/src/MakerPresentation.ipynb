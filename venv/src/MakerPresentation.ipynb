{
 "cells": [
  {
   "cell_type": "markdown",
   "metadata": {
    "slideshow": {
     "slide_type": "slide"
    },
    "toc": true
   },
   "source": [
    "<h1>Table of Contents<span class=\"tocSkip\"></span></h1>\n",
    "<div class=\"toc\" style=\"margin-top: 1em;\"><ul class=\"toc-item\"><li><span><a href=\"#Author:-Larry-M.-(Larz60+)\" data-toc-modified-id=\"Author:-Larry-M.-(Larz60+)-1\"><span class=\"toc-item-num\">1&nbsp;&nbsp;</span>Author: Larry M. (Larz60+)</a></span></li><li><span><a href=\"#Introduction\" data-toc-modified-id=\"Introduction-2\"><span class=\"toc-item-num\">2&nbsp;&nbsp;</span>Introduction</a></span></li><li><span><a href=\"#Part-1----RfcPaths.py---Set-up-paths\" data-toc-modified-id=\"Part-1----RfcPaths.py---Set-up-paths-3\"><span class=\"toc-item-num\">3&nbsp;&nbsp;</span>Part 1 -- RfcPaths.py - Set up paths</a></span></li><li><span><a href=\"#Part-2---CheckInternet.py---Check-Internet-Availability\" data-toc-modified-id=\"Part-2---CheckInternet.py---Check-Internet-Availability-4\"><span class=\"toc-item-num\">4&nbsp;&nbsp;</span>Part 2 - CheckInternet.py - Check Internet Availability</a></span></li><li><span><a href=\"#Part-3---GetUrl.py---Fetching-the-webpage\" data-toc-modified-id=\"Part-3---GetUrl.py---Fetching-the-webpage-5\"><span class=\"toc-item-num\">5&nbsp;&nbsp;</span>Part 3 - GetUrl.py - Fetching the webpage</a></span></li><li><span><a href=\"#Part-4---GetPage.py---A-wrapper-around-GetUrl,-Updates-only-if-data-too-old.\" data-toc-modified-id=\"Part-4---GetPage.py---A-wrapper-around-GetUrl,-Updates-only-if-data-too-old.-6\"><span class=\"toc-item-num\">6&nbsp;&nbsp;</span>Part 4 - GetPage.py - A wrapper around GetUrl, Updates only if data too old.</a></span></li><li><span><a href=\"#Part-5---GetRemoteDir.py---Fetches-directory-of-page-referenced-by-url.\" data-toc-modified-id=\"Part-5---GetRemoteDir.py---Fetches-directory-of-page-referenced-by-url.-7\"><span class=\"toc-item-num\">7&nbsp;&nbsp;</span>Part 5 - GetRemoteDir.py - Fetches directory of page referenced by url.</a></span></li><li><span><a href=\"#Part-6---CreateRfcIndex.py---Gets-main-RFC-index-and-creates-json-file\" data-toc-modified-id=\"Part-6---CreateRfcIndex.py---Gets-main-RFC-index-and-creates-json-file-8\"><span class=\"toc-item-num\">8&nbsp;&nbsp;</span>Part 6 - CreateRfcIndex.py - Gets main RFC index and creates json file</a></span></li><li><span><a href=\"#Part-7---RfcViewer.py---Gui-for-viewing-index,-fetching-and-displaying-Documents\" data-toc-modified-id=\"Part-7---RfcViewer.py---Gui-for-viewing-index,-fetching-and-displaying-Documents-9\"><span class=\"toc-item-num\">9&nbsp;&nbsp;</span>Part 7 - RfcViewer.py - Gui for viewing index, fetching and displaying Documents</a></span></li><li><span><a href=\"#Part-8---ImageLib.py---Create-icon8-icon-index-json-file\" data-toc-modified-id=\"Part-8---ImageLib.py---Create-icon8-icon-index-json-file-10\"><span class=\"toc-item-num\">10&nbsp;&nbsp;</span>Part 8 - ImageLib.py - Create icon8 icon index json file</a></span></li><li><span><a href=\"#Part-9---PdfAttempt.py---Pdf-code-that-works-...-sort-of\" data-toc-modified-id=\"Part-9---PdfAttempt.py---Pdf-code-that-works-...-sort-of-11\"><span class=\"toc-item-num\">11&nbsp;&nbsp;</span>Part 9 - PdfAttempt.py - Pdf code that works ... sort of</a></span></li></ul></div>"
   ]
  },
  {
   "cell_type": "markdown",
   "metadata": {
    "slideshow": {
     "slide_type": "slide"
    }
   },
   "source": [
    "# January 2018 Python Users Group - Manchester, New Hampshire, USA\n",
    "\n",
    "## Author: Larry M. (Larz60+)\n",
    "\n",
    "## Introduction\n",
    "\n",
    "\n",
    "This presentation was originally going to be on creating a file server, where RFC's could be searched by Title, Author, RFC_Id, Date, etc. and then the actual rfc would be fetched and presented in nice GUI. There is some very interesting web scraping (CreateRfcIndex which needs to look at some Javascript), and things I had fun with, like GetRemoteDir.py.\n",
    "\n",
    "<img src='RfcViewer.png' alt='Image goes here' title='RFC Viewer' align='right' />\n",
    "\n",
    "Here's a list by module:\n",
    "\n",
    "* RfcPaths.py - Set up Paths, Files, and URL's needed for project\n",
    "\n",
    "* CheckInternet.py - Check Internet availability.\n",
    "\n",
    "* GetUrl.py -   Create Class to fetch page at URL\n",
    "\n",
    "* GetPage.py -  Create Class to fetch a page if older than a specified time, or if it doesn't exist, and save the html. If not older than specified time, fetch the file. In all cases return the page html\n",
    "\n",
    "* GetRemoteDir.py - Create class to extract a directory (by file suffix) from a download URL\n",
    "\n",
    "* CreateRfcIndex.py - Module to do the file scraping, and extract the data that will be needed for the RFC index. Then save that data in json format. Will contain URL's for text, PDF, and Postscript format (as available)\n",
    "\n",
    "* RfcViewer.py - Create a GUI, either as a web site, WXpython Phoenix, or both. This will have a search capability, and be able to display in all available formats.\n",
    "\n",
    "* ImageLib.py - Class used to create an icon image library directory (uses icons8 public domain icon library) These images will be used to create a navigation pane for the PDF vierer in RfvViewer There are over 300 icons in this library which can be reused for other applications. Copy of icons8 license is in the images directory - ImageLib.py"
   ]
  },
  {
   "cell_type": "markdown",
   "metadata": {
    "slideshow": {
     "slide_type": "slide"
    }
   },
   "source": [
    "## Part 1 -- RfcPaths.py - Set up paths\n",
    "\n",
    "I like to keep all of my file paths, filenames, and URL's in a single class that I can import into any module requiring access to the data pointed to by the various entries in the class. All paths are relative to the location of the python source directory. I use pathlib, rather than os because it totally object oriented, and offers many advantages as such.\n",
    "\n",
    "Keeping this data in a separate class has several advantages:\n",
    "\n",
    "* If a path changes, relative to the source directory, only a single location has to be changed. This is by far the most important advantage.\n",
    "\n",
    "* Need a path? just import RfcPaths and it's there.\n",
    "\n",
    "* Opening a pathlib file is as simple as 'RfcIndex.open()'\n",
    "\n",
    "* Getting an absolute path from a pathlib path is a simple as 'pathname.resolve()'\n",
    "\n",
    "* Or to get a directory of all files '[x for x in pathname.iterdir() if x.is_file()]'"
   ]
  },
  {
   "cell_type": "code",
   "execution_count": null,
   "metadata": {
    "slideshow": {
     "slide_type": "subslide"
    }
   },
   "outputs": [],
   "source": [
    "from pathlib import Path\n",
    "import os\n",
    "\n",
    "\n",
    "class RfcPaths:\n",
    "    def __init__(self):\n",
    "        # Directory paths assure required paths exist\n",
    "        self.prev_cwd = None\n",
    "        self.homepath = Path('.')\n",
    "        self.datapath = self.homepath / 'data'\n",
    "        self.datapath.mkdir(exist_ok=True)\n",
    "        self.htmlpath = self.datapath / 'html'\n",
    "        self.htmlpath.mkdir(exist_ok=True)\n",
    "        self.jsonpath = self.datapath / 'json'\n",
    "        self.jsonpath.mkdir(exist_ok=True)\n",
    "        self.textpath = self.datapath / '/text'\n",
    "        self.textpath.mkdir(exist_ok=True)\n",
    "        # self.miscpath = self.datapath / 'MiscData'\n",
    "        # self.miscpath.mkdir(exist_ok=True)\n",
    "        # self.pdfpath  = self.datapath / 'pdf'\n",
    "        # self.pdfpath.mkdir(exist_ok=True)\n",
    "        # self.samplepath = self.datapath / 'sampledata'\n",
    "        # self.samplepath.mkdir(exist_ok=True)\n",
    "        self.temppath = self.datapath / 'temp'\n",
    "        self.temppath.mkdir(exist_ok=True)\n",
    "        self.imagepath = self.homepath / 'images'\n",
    "        self.imagepath.mkdir(exist_ok=True)\n",
    "\n",
    "        # File paths\n",
    "        self.text_index = self.textpath / 'rfc-index.txt'\n",
    "        # self.ien_index = self.miscpath / 'ien_index.txt'\n",
    "        # self.bcp_index = self.miscpath / 'bcp_index.txt'\n",
    "        # self.testdoc = self.samplepath / 'rfc110.pdf'\n",
    "        # self.pdf_index_file = self.pdfpath / 'rfc-index.txt.pdf'\n",
    "        self.imagedict = self.jsonpath / 'images.json'\n",
    "        self.text_test_file = self.temppath / 'text.txt'\n",
    "        self.pdf_test_file = self.temppath / 'pdf.txt'\n",
    "        self.ps_test_file = self.temppath / 'ps.txt'\n",
    "\n",
    "        self.rfc_index_html = self.htmlpath / 'rfc_index.html'\n",
    "        self.rfc_int_std_html = self.htmlpath / 'int_std_index.html'\n",
    "        self.rfc_filepage = self.htmlpath / 'file_info.html'\n",
    "        self.rfc_download_dir_html = self.htmlpath / 'download.html'\n",
    "\n",
    "        self.rfc_index_json = self.jsonpath / 'rfc_index.json'\n",
    "\n",
    "        # url's\n",
    "        self.rfc_index_url = 'https://www.rfc-editor.org/rfc-index.html'\n",
    "        self.int_standards_url = 'https://www.rfc-editor.org/search/rfc_search_detail.php?sortkey=Number' \\\n",
    "                                 '&sorting=DESC&page=All&pubstatus%5B%5D=Standards%20Track&std_trk=Internet' \\\n",
    "                                 '%20Standard'\n",
    "        self.base_rfc_url = 'https://www.rfc-editor.org/info/'\n",
    "        self.sitemap_url ='https://www.rfc-editor.org/sitemap/'\n",
    "        self.rfc_download_page_url = 'https://www.rfc-editor.org/rfc/'\n",
    "        self.pdfrfc_download_page_url = 'https://www.rfc-editor.org/rfc/pdfrfc/'\n",
    "        self.std_download_page_url = 'https://www.rfc-editor.org/rfc/std/'\n",
    "        self.bcp_download_page_url = 'https://www.rfc-editor.org/rfc/bcp/'\n",
    "        self.fyi_download_page_url = 'https://www.rfc-editor.org/rfc/fyi/'\n",
    "        self.ien_download_page_url = 'https://www.rfc-editor.org/rfc/ien/'\n",
    "        self.ien__pdf_download_page_url = 'https://www.rfc-editor.org/rfc/ien/scanned/'\n",
    "        self.rfc_ref_index = f'{self.rfc_download_page_url}rfc-ref.txt.new'\n",
    "\n",
    "\n",
    "def testit():\n",
    "    rp = RfcPaths()\n",
    "    print(f'{[x for x in rp.datapath.iterdir()]}')\n",
    "    print(f'{[x for x in rp.imagepath.iterdir()]}')\n",
    "    print(f'{rp.imagepath.resolve()}')\n",
    "\n",
    "if __name__ == '__main__':\n",
    "    testit()"
   ]
  },
  {
   "cell_type": "markdown",
   "metadata": {
    "slideshow": {
     "slide_type": "subslide"
    }
   },
   "source": [
    "This script can be imported into other modules. This makes it easy to change the location of an individual file, or entire directory, and have it available immediately to the entire package.\n",
    "\n",
    "Example:"
   ]
  },
  {
   "cell_type": "code",
   "execution_count": null,
   "metadata": {
    "slideshow": {
     "slide_type": "subslide"
    }
   },
   "outputs": [],
   "source": [
    "import RfcPaths as rp\n",
    "import json\n",
    "\n",
    "\n",
    "rpaths = rp.RfcPaths()\n",
    "\n",
    "with rpaths.rfc_index_json.open() as f:\n",
    "    mydict = json.load(f)\n",
    "\n",
    "keys = mydict.keys()\n",
    "print(keys)\n",
    "print(mydict['RFC0037'])\n",
    "print(mydict['RFC0037']['authors'])\n"
   ]
  },
  {
   "cell_type": "markdown",
   "metadata": {
    "slideshow": {
     "slide_type": "subslide"
    }
   },
   "source": [
    "If you need to know where a file exists, simply call resolve"
   ]
  },
  {
   "cell_type": "code",
   "execution_count": null,
   "metadata": {
    "slideshow": {
     "slide_type": "subslide"
    }
   },
   "outputs": [],
   "source": [
    "import RfcPaths as rp\n",
    "import json\n",
    "\n",
    "\n",
    "rpaths = rp.RfcPaths()\n",
    "rpaths.rfc_index_json.resolve()\n"
   ]
  },
  {
   "cell_type": "markdown",
   "metadata": {
    "slideshow": {
     "slide_type": "slide"
    }
   },
   "source": [
    "\n",
    "## Part 2 - CheckInternet.py - Check Internet Availability\n",
    "Need a module to check if internet access is available"
   ]
  },
  {
   "cell_type": "code",
   "execution_count": null,
   "metadata": {
    "slideshow": {
     "slide_type": "subslide"
    }
   },
   "outputs": [],
   "source": [
    "import socket\n",
    "\n",
    "\n",
    "class CheckInternet:\n",
    "    def __init__(self):\n",
    "        self.internet_available = False\n",
    "\n",
    "    def check_availability(self):\n",
    "        self.internet_available = False\n",
    "        if socket.gethostbyname(socket.gethostname()) != '127.0.0.1':\n",
    "            self.internet_available = True\n",
    "        return self.internet_available\n",
    "\n",
    "\n",
    "def testit():\n",
    "    ci = CheckInternet()\n",
    "    print('Please turn internet OFF, then press Enter')\n",
    "    input()\n",
    "    ci.check_availability()\n",
    "    print(f'ci.internet_available: {ci.internet_available}')\n",
    "    if not ci.internet_available:\n",
    "        print('    Off test successful')\n",
    "    else:\n",
    "        print('    Off test failed')\n",
    "    print('Please turn internet ON, then press Enter')\n",
    "    input()\n",
    "    ci.check_availability()\n",
    "    print(f'ci.internet_available: {ci.internet_available}')\n",
    "    if ci.internet_available:\n",
    "        print('    On text successful')\n",
    "    else:\n",
    "        print('    On test failed')\n",
    "\n",
    "\n",
    "if __name__ == '__main__':\n",
    "    testit()"
   ]
  },
  {
   "cell_type": "markdown",
   "metadata": {
    "slideshow": {
     "slide_type": "slide"
    }
   },
   "source": [
    "## Part 3 - GetUrl.py - Fetching the webpage\n",
    "The GetUrl module only does one thing, fetch a webpage and return it's contents"
   ]
  },
  {
   "cell_type": "code",
   "execution_count": null,
   "metadata": {
    "slideshow": {
     "slide_type": "subslide"
    }
   },
   "outputs": [],
   "source": [
    "import RfcPaths\n",
    "import requests\n",
    "import CheckInternet\n",
    "import sys\n",
    "\n",
    "\n",
    "class GetUrl:\n",
    "    def __init__(self):\n",
    "        self.rpath = RfcPaths.RfcPaths()\n",
    "        self.ci = CheckInternet.CheckInternet()\n",
    "        self.ok_status = 200\n",
    "        self.r = None\n",
    "\n",
    "    def fetch_url(self, url):\n",
    "        self.r = None\n",
    "        if self.ci.check_availability():\n",
    "            self.r = requests.get(url, allow_redirects=False)\n",
    "        return self.r\n",
    "\n",
    "\n",
    "def testit():\n",
    "    gu = GetUrl()\n",
    "    page = gu.fetch_url('https://www.google.com/')\n",
    "    count = 0\n",
    "    maxcount = 20\n",
    "    try:\n",
    "        if page.status_code == 200:\n",
    "            ptext = page.text.split('/n')\n",
    "            for line in ptext:\n",
    "                print(f'{line}\\n')\n",
    "                count += 1\n",
    "                if count > maxcount:\n",
    "                    break\n",
    "        else:\n",
    "            print(f'Error retreving file status code: {page.status_code}')\n",
    "    except AttributeError:\n",
    "        print('Please enable internet and try again')\n",
    "\n",
    "if __name__ == '__main__':\n",
    "    testit()"
   ]
  },
  {
   "cell_type": "markdown",
   "metadata": {
    "slideshow": {
     "slide_type": "subslide"
    }
   },
   "source": [
    "\n",
    "GetUrl uses the requests package (http://docs.python-requests.org/en/master/) to fetch a webpage. If you don't have it, you can download simply using pip:"
   ]
  },
  {
   "cell_type": "code",
   "execution_count": null,
   "metadata": {
    "slideshow": {
     "slide_type": "subslide"
    }
   },
   "outputs": [],
   "source": [
    "pip install requests"
   ]
  },
  {
   "cell_type": "markdown",
   "metadata": {
    "slideshow": {
     "slide_type": "subslide"
    }
   },
   "source": [
    "The initalization is simple, rfpath is a pointer to the RfcPaths path class, ok_status is the standard internet fetch ok status code and r will be used to hold the data structure returned by requests."
   ]
  },
  {
   "cell_type": "code",
   "execution_count": null,
   "metadata": {
    "slideshow": {
     "slide_type": "subslide"
    }
   },
   "outputs": [],
   "source": [
    "class GetUrl:\n",
    "    def __init__(self):\n",
    "        self.rpath = RfcPaths.RfcPaths()\n",
    "        self.ci = CheckInternet.CheckInternet()\n",
    "        self.ok_status = 200\n",
    "        self.r = None"
   ]
  },
  {
   "cell_type": "markdown",
   "metadata": {
    "slideshow": {
     "slide_type": "subslide"
    }
   },
   "source": [
    "The fetch_url method uses requests to fetch the URL, with redirects not allowed so that the entire web is not downloaded, and for security reasons.\n",
    "\n",
    "If an Internet error is encountered, this method will return None, which can be used by the calling routine to cause an AttributeError exception, thus determining that the reason was lack of internet.\n",
    "\n",
    "If there is no error, ite returns the raw requests response object, which can be queried as required by the calling program."
   ]
  },
  {
   "cell_type": "code",
   "execution_count": null,
   "metadata": {
    "slideshow": {
     "slide_type": "subslide"
    }
   },
   "outputs": [],
   "source": [
    "    def fetch_url(self, url):\n",
    "        self.r = None\n",
    "        if self.ci.check_availability():\n",
    "            self.r = requests.get(url, allow_redirects=False)\n",
    "        return self.r"
   ]
  },
  {
   "cell_type": "markdown",
   "metadata": {
    "slideshow": {
     "slide_type": "subslide"
    }
   },
   "source": [
    "Jupyter Notebook starts with a set data size. Running this script from within Notebook will create an error.\n",
    "To bypass this error, the buffer size must be increased.\n",
    "\n",
    "If you haven't already done this, cut and paste the following and restart from the command line:"
   ]
  },
  {
   "cell_type": "code",
   "execution_count": null,
   "metadata": {
    "slideshow": {
     "slide_type": "subslide"
    }
   },
   "outputs": [],
   "source": [
    "jupyter notebook --NotebookApp.iopub_data_rate_limit=10000000000"
   ]
  },
  {
   "cell_type": "markdown",
   "metadata": {
    "collapsed": true,
    "slideshow": {
     "slide_type": "slide"
    }
   },
   "source": [
    "\n",
    "## Part 4 - GetPage.py - A wrapper around GetUrl, Updates only if data too old.\n",
    "\n",
    "Using a local cache, this module will first check to see if the desired webpage is cached in the sub-directory dtat/html.\n",
    "If present, checks the file date/time modified stamp to see if it is older ta specified time and will attempt to fetch a new copy from the internet if this is the case.\n",
    "\n",
    "If refresh_hours_every is passed as an argument with a value of 0, the code will unconditionally go to the website and\n",
    "download a new copy (and write to cache).\n",
    "\n",
    "This is accomplished but using the lstats method of pathlib, which is very similar to os.stats, with a response that is exactly the same, so taking lstats.st_mtime and dividing by 3600 get's age of last modification.\n",
    "\n",
    "The download_new_file method makes use of GetUrl's internet checking, which will return None if internet is not available.\n",
    "That will cause an AttributeError exception, because the format is not a valid requests response object. This is a trick!"
   ]
  },
  {
   "cell_type": "code",
   "execution_count": null,
   "metadata": {
    "slideshow": {
     "slide_type": "subslide"
    }
   },
   "outputs": [],
   "source": [
    "import GetUrl\n",
    "import time\n",
    "import sys\n",
    "\n",
    "\n",
    "class GetPage:\n",
    "    def __init__(self):\n",
    "        \"\"\"\n",
    "        Initalize - Instantiate imported modules, initialize class variables\n",
    "        \"\"\"\n",
    "        self.elapsed_hours = 0\n",
    "        self.gu = GetUrl.GetUrl()\n",
    "        self.savefile = None\n",
    "\n",
    "    def get_page(self, url, savefile=None, refresh_hours_every=48):\n",
    "        self.url = url\n",
    "        self.savefile = savefile\n",
    "        self.refresh_hours_every = refresh_hours_every\n",
    "        self.page = None\n",
    "        if self.savefile:\n",
    "            if self.savefile.exists():\n",
    "                lstats = savefile.lstat()\n",
    "                self.elapsed_hours = (time.time() - lstats.st_mtime) / 3600\n",
    "                if lstats.st_size == 0 or (self.elapsed_hours > self.refresh_hours_every):\n",
    "                    self.page = self.download_new_file()\n",
    "                else:\n",
    "                    with self.savefile.open('r') as f:\n",
    "                        self.page = f.read()\n",
    "            else:\n",
    "                self.page = self.download_new_file()\n",
    "        else:\n",
    "            self.page = self.download_new_file()\n",
    "        return self.page\n",
    "\n",
    "\n",
    "    def download_new_file(self):\n",
    "        page = None\n",
    "        try:\n",
    "            page = self.gu.fetch_url(self.url)\n",
    "            if page.status_code == 200:\n",
    "                with self.savefile.open('wb') as f:\n",
    "                    f.write(page.content)\n",
    "            else:\n",
    "                print(f'Invalid status code: {page.st}')\n",
    "        except AttributeError:\n",
    "            print('Please enable internet and try again')\n",
    "        return page\n",
    "\n",
    "def testit():\n",
    "    import RfcPaths\n",
    "    rpath = RfcPaths.RfcPaths()\n",
    "    # Test url = rfc index download page, save to data/html/rfc_index.html, refresh always\n",
    "    gp = GetPage()\n",
    "    page = gp.get_page(url=rpath.rfc_download_page_url, savefile=rpath.rfc_index_html,\n",
    "                       refresh_hours_every=0)\n",
    "    if page:\n",
    "        if page.status_code == 200:\n",
    "            print(f'Page contents: {page.text}')\n",
    "        else:\n",
    "            print('Page is empty or in')\n",
    "\n",
    "if __name__ == '__main__':\n",
    "    testit()\n"
   ]
  },
  {
   "cell_type": "markdown",
   "metadata": {
    "slideshow": {
     "slide_type": "slide"
    }
   },
   "source": [
    "## Part 5 - GetRemoteDir.py - Fetches directory of page referenced by url.\n",
    "\n",
    "This module is used to get a list of files by type from a webpage that (hopefully) contains files available for download. It does this by getting an html listing of the page containing the files and then using BeautifulSoup, extract the a Tag hrefs, matching those whose type is requested, and returning to the calling program as a list.\n",
    "\n",
    "One thing to notice in the download_new_file method, after the document is fetched using GetUrl, the content of the requests response is extracted, and that is what beautiful soup parses.\n",
    "\n",
    "All a tags are extracted from the html and then the href isolated. If the suffix matches that requested it's appended to dirlist, and once complete, returns that list to the calling program."
   ]
  },
  {
   "cell_type": "code",
   "execution_count": null,
   "metadata": {
    "slideshow": {
     "slide_type": "subslide"
    }
   },
   "outputs": [],
   "source": [
    "import GetUrl\n",
    "from bs4 import BeautifulSoup\n",
    "import time\n",
    "import sys\n",
    "import socket\n",
    "\n",
    "\n",
    "class GetRemoteDir:\n",
    "    def __init__(self):\n",
    "        self.soup = None\n",
    "        self.gu = GetUrl.GetUrl()\n",
    "        self.internet_available = socket.gethostbyname(socket.gethostname()) != '127.0.0.1'\n",
    "        self.page = None\n",
    "        self.refresh_hours_every = None\n",
    "\n",
    "    def list_file_descriptor(self, url, savefile=None, refresh_hours_every=48, suffix=''):\n",
    "        elapsed_hours = 0\n",
    "        dirlist = []\n",
    "        self.refresh_hours_every = refresh_hours_every\n",
    "        self.url = url\n",
    "        self.savefile = savefile\n",
    "        self.suffix = suffix\n",
    "\n",
    "        if self.savefile:\n",
    "            if self.savefile.exists():\n",
    "                lstats = self.savefile.lstat()\n",
    "                elapsed_hours = (time.time() - lstats.st_mtime) / 3600\n",
    "                if elapsed_hours > self.refresh_hours_every:\n",
    "                    self.page = self.download_new_file()\n",
    "                else:\n",
    "                    with savefile.open('r') as f:\n",
    "                        self.page = f.read()\n",
    "            else:\n",
    "                self.page = self.download_new_file()\n",
    "        else:\n",
    "            self.page = self.download_new_file()\n",
    "\n",
    "        self.soup = BeautifulSoup(self.page, 'html.parser')\n",
    "        links = self.soup.select('a')\n",
    "        for link in links:\n",
    "            try:\n",
    "                if link['href'].endswith(suffix):\n",
    "                    dirlist.append(link['href'])\n",
    "            except:\n",
    "                print(\"Unexpected error:\", sys.exc_info()[0])\n",
    "        return dirlist\n",
    "\n",
    "    def download_new_file(self):\n",
    "        page = None\n",
    "        if self.internet_available:\n",
    "            document = self.gu.fetch_url(self.url)\n",
    "            page = document.content\n",
    "            with self.savefile.open('wb') as f:\n",
    "                f.write(page)\n",
    "        else:\n",
    "            print('Please enable internet and re-try')\n",
    "        return page\n",
    "\n",
    "\n",
    "    def list_dir(self, url, suffix):\n",
    "        for item in self.list_file_descriptor(url, suffix):\n",
    "            print(item)\n",
    "\n",
    "\n",
    "def testit():\n",
    "    import RfcPaths\n",
    "    rpath = RfcPaths.RfcPaths()\n",
    "    grd              = GetRemoteDir()\n",
    "    text_files       = grd.list_file_descriptor(url=rpath.rfc_download_page_url,\n",
    "                                                savefile=rpath.text_test_file, suffix='txt')\n",
    "    pdf_files        = grd.list_file_descriptor(url=rpath.rfc_download_page_url,\n",
    "                                                savefile=pdf_test_file, suffix='pdf')\n",
    "    postscript_files = grd.list_file_descriptor(url=rpath.rfc_download_page_url,\n",
    "                                                savefile=ps_test_file, suffix='ps')\n",
    "    print(f'text_files: {text_files}')\n",
    "    print(f'pdf_files: {pdf_files}')\n",
    "    print(f'postscript_files: {postscript_files}')\n",
    "\n",
    "\n",
    "if __name__ == '__main__':\n",
    "    testit()"
   ]
  },
  {
   "cell_type": "markdown",
   "metadata": {
    "slideshow": {
     "slide_type": "slide"
    }
   },
   "source": [
    "## Part 6 - CreateRfcIndex.py - Gets main RFC index and creates json file\n"
   ]
  },
  {
   "cell_type": "code",
   "execution_count": null,
   "metadata": {
    "slideshow": {
     "slide_type": "subslide"
    }
   },
   "outputs": [],
   "source": [
    "import RfcPaths\n",
    "import GetPage\n",
    "import GetUrl\n",
    "import json\n",
    "import GetRemoteDir\n",
    "from bs4 import BeautifulSoup\n",
    "\n",
    "\n",
    "class CreateRfcIndex:\n",
    "    def __init__(self):\n",
    "        self.rpath = RfcPaths.RfcPaths()\n",
    "        self.gp = GetPage.GetPage()\n",
    "        self.gu = GetUrl.GetUrl()\n",
    "        self.pno = 0\n",
    "        self.page = self.get_rfc_index()\n",
    "        if self.page is not None:\n",
    "            self.text_index = {}\n",
    "            self.create_rfc_text_index()\n",
    "\n",
    "    def get_rfc_index(self):\n",
    "        url = self.rpath.rfc_index_url\n",
    "        save = self.rpath.rfc_index_html\n",
    "        refresh_hrs = 1\n",
    "        document = self.gp.get_page(url=url, savefile=save, refresh_hours_every=refresh_hrs)\n",
    "        return document\n",
    "\n",
    "    def create_rfc_text_index(self):\n",
    "        \"\"\"\n",
    "        Parse rfc_index from rfc-editor.org, create a dictionary and save as json file\n",
    "        :return: None\n",
    "        \"\"\"\n",
    "        with self.rpath.rfc_index_html.open('rb') as f:\n",
    "            page = f.read()\n",
    "        soup = BeautifulSoup(page, 'lxml')\n",
    "\n",
    "        tr_list = soup.select('tr')\n",
    "\n",
    "        for tr in tr_list:\n",
    "            td_list = tr.select('td')\n",
    "            if td_list[0].find('script'):\n",
    "                self.extract_data(td_list)\n",
    "\n",
    "        self.add_file_links()\n",
    "\n",
    "        with self.rpath.rfc_index_json.open('w') as temp:\n",
    "            json.dump(self.text_index, temp)\n",
    "\n",
    "    def get_file_locations(self):\n",
    "        grd = GetRemoteDir.GetRemoteDir()\n",
    "        self.text_files = grd.list_file_descriptor(url=self.rpath.rfc_download_page_url,\n",
    "                                              savefile=self.rpath.rfc_download_dir_html, suffix='txt')\n",
    "        self.pdf_files = grd.list_file_descriptor(url=self.rpath.rfc_download_page_url,\n",
    "                                             savefile=self.rpath.rfc_download_dir_html, suffix='pdf')\n",
    "        self.postscript_files = grd.list_file_descriptor(url=self.rpath.rfc_download_page_url,\n",
    "                                                    savefile=self.rpath.rfc_download_dir_html, suffix='ps')\n",
    "\n",
    "    def add_file_links(self):\n",
    "        self.get_file_locations()\n",
    "        for key, value in self.text_index.items():\n",
    "            abbreviated_key = f'rfc{int(key[3:])}'\n",
    "            filename = f'{abbreviated_key}.txt'\n",
    "            if filename in self.text_files:\n",
    "                self.text_index[key]['text_file'] = f'{self.rpath.rfc_download_page_url}{filename}'\n",
    "            filename = f'{abbreviated_key}.pdf'\n",
    "            if filename in self.pdf_files:\n",
    "                self.text_index[key]['pdf_file'] = f'{self.rpath.rfc_download_page_url}{filename}'\n",
    "            filename = f'{abbreviated_key}.ps'\n",
    "            if filename in self.postscript_files:\n",
    "                self.text_index[key]['ps_file'] = f'{self.rpath.rfc_download_page_url}{filename}'\n",
    "\n",
    "    def extract_data(self, tds):\n",
    "        \"\"\"\n",
    "        Extract data from soup, building dictionary along the way\n",
    "        :param tds: list of all td's of proper type\n",
    "        :return: None\n",
    "        \"\"\"\n",
    "        for n, td in enumerate(tds):\n",
    "            if td is None:\n",
    "                continue\n",
    "            if n == 0:\n",
    "                item_dict = self.extract_header(td)\n",
    "            else:\n",
    "                item_dict['title'] = td.find('b').text\n",
    "                lines = td.text.strip().split('\\n')\n",
    "                lines = list(map(str.strip, lines))\n",
    "                lines[0] = lines[0][len(item_dict['title']):]\n",
    "                item_dict['authors'] = lines[0]\n",
    "                del lines[0]\n",
    "                self.get_remaining_fields(lines, item_dict)\n",
    "\n",
    "    def extract_header(self, td):\n",
    "        \"\"\"\n",
    "        Extract the RFC number from the id script\n",
    "        :param td: td containing script\n",
    "        :return: key entry of dictionary entry\n",
    "        \"\"\"\n",
    "        rfc_id = td.text[td.text.index('(') + 2:td.text.index(')') - 1]\n",
    "        self.text_index[rfc_id] = {}\n",
    "        return self.text_index[rfc_id]\n",
    "\n",
    "    @staticmethod\n",
    "    def get_remaining_fields(lines, item_dict):\n",
    "        \"\"\"\n",
    "        Extracts remaining fields and adds them to the dictionary\n",
    "        :param lines: list of lines from td\n",
    "        :param item_dict: dictionary key for rfc\n",
    "        :return: None\n",
    "        \"\"\"\n",
    "        multi = False\n",
    "        dtag = None\n",
    "        dtext = None\n",
    "        mm = False\n",
    "        for item in lines:\n",
    "            if item == '':\n",
    "                continue\n",
    "            if multi or item.startswith('('):\n",
    "                # multi line entry\n",
    "                if item.startswith('('):\n",
    "                    if multi:\n",
    "                        item_dict[dtag] = dtext\n",
    "                    multi = False\n",
    "                if multi:\n",
    "                    if '\\>)' in item:\n",
    "                        multi = False\n",
    "                        item_dict[dtag] = dtext\n",
    "                        continue\n",
    "                    if item.startswith('do'):\n",
    "                        if mm:\n",
    "                            nd = item[item.index(\"('\")+2:item.index(\"')\")]\n",
    "                            dtext = f'{dtext}, {nd}'\n",
    "                        else:\n",
    "                            dtext = item[item.index(\"('\")+2:item.index(\"')\")]\n",
    "                            mm = True\n",
    "                    continue\n",
    "                if ')' not in item:\n",
    "                    dtag = item[item.index('(')+1:]\n",
    "                    multi = True\n",
    "                    mm = False\n",
    "                    continue\n",
    "                # Two formats, with ':' or with '='\n",
    "                item = item[1:item.index(')')]\n",
    "                if '=' in item:\n",
    "                    item = item.split()\n",
    "                    item_dict['type'] = item[0].lower()\n",
    "                    item_dict['size'] = item[2]\n",
    "                else:\n",
    "                    item = item.split(': ')\n",
    "                    item_dict[item[0].lower()] = item[1]\n",
    "            elif item.startswith('['):\n",
    "                item_dict['pub_date'] = item[item.index('[')+1:item.index(']')-1].strip()\n",
    "            else:\n",
    "                print('oddball found: {item}')\n",
    "\n",
    "\n",
    "if __name__ == '__main__':\n",
    "    CreateRfcIndex()"
   ]
  },
  {
   "cell_type": "markdown",
   "metadata": {
    "slideshow": {
     "slide_type": "slide"
    }
   },
   "source": [
    "## Part 7 - RfcViewer.py - Gui for viewing index, fetching and displaying Documents\n"
   ]
  },
  {
   "cell_type": "code",
   "execution_count": null,
   "metadata": {
    "slideshow": {
     "slide_type": "subslide"
    }
   },
   "outputs": [],
   "source": [
    "#!/usr/bin/python\n",
    "# See for pdf: https://wxpython.org/Phoenix/docs/html/wx.lib.pdfviewer.html#module-wx.lib.pdfviewer\n",
    "import wx\n",
    "import fitz\n",
    "from wx.lib.pdfviewer import pdfViewer, pdfButtonPanel\n",
    "import wx.aui as aui\n",
    "import wx.lib.agw.aui as aui\n",
    "import RfcPaths\n",
    "import json\n",
    "# import CheckInternet\n",
    "import requests\n",
    "\n",
    "\n",
    "class MainPanel(wx.Panel):\n",
    "    \"\"\"\n",
    "    Just a simple derived panel where we override Freeze and Thaw to work\n",
    "    around an issue on wxGTK.\n",
    "    \"\"\"\n",
    "    def Freeze(self):\n",
    "        if 'wxMSW' in wx.PlatformInfo:\n",
    "            return super(MainPanel, self).Freeze()\n",
    "\n",
    "    def Thaw(self):\n",
    "        if 'wxMSW' in wx.PlatformInfo:\n",
    "            return super(MainPanel, self).Thaw()\n",
    "\n",
    "\n",
    "class RfcViewer(wx.Frame):\n",
    "    def __init__(self, parent, id=wx.ID_ANY, title=\"Rfc Viewer\", pos=wx.DefaultPosition,\n",
    "                 size=(800, 600), style=wx.DEFAULT_FRAME_STYLE, name='RfcViewer'):\n",
    "        \"\"\"\n",
    "        Initialize - inherits from wx.Frame. Instantiates all widgets and variables for application\n",
    "\n",
    "        :param parent: (wx.Window) The window parent. This may be, and often is, None. If it is not None, the frame\n",
    "                       will be minimized when its parent is minimized and restored when it is restored (although it\n",
    "                       will still be possible to minimize and restore just this frame itself).\n",
    "\n",
    "        :param id:     (wx.WindowID) The window identifier. It may take a value of -1 to indicate a default value.\n",
    "\n",
    "        :param title:  (string)  The caption to be displayed on the frame’s title bar.\n",
    "\n",
    "        :param pos:    (wx.point) The window position. The value DefaultPosition indicates a default position,\n",
    "                       chosen by either the windowing system or wxWidgets, depending on platform.\n",
    "\n",
    "        :param size:   (wx.Size) – The window size. The value DefaultSize indicates a default size, chosen by either\n",
    "                       the windowing system or wxWidgets, depending on platform.\n",
    "\n",
    "        :param style:  (long) – The window style. See wx.Frame class description.\n",
    "\n",
    "        :param name:   (string) The name of the window. This parameter is used to associate a name with the item,\n",
    "                       allowing the application user to set Motif resource values for individual windows.\n",
    "        \"\"\"\n",
    "        wx.Frame.__init__(self,\n",
    "                          parent,\n",
    "                          id,\n",
    "                          title,\n",
    "                          pos,\n",
    "                          size,\n",
    "                          style)\n",
    "        print(f'PyMuPDF version: {fitz.__doc__}')\n",
    "        self.rpath = RfcPaths.RfcPaths()\n",
    "        self.rfc_document_data = None\n",
    "\n",
    "        with self.rpath.rfc_index_json.open() as f:\n",
    "            self.rfc_index = json.load(f)\n",
    "\n",
    "        self.pnl = pnl = MainPanel(self)\n",
    "        self._mgr = aui.AuiManager(pnl)\n",
    "\n",
    "        # notify AUI which frame to use\n",
    "        self._mgr.SetManagedWindow(self)\n",
    "\n",
    "        # First pane is Rfc Selection window located top left\n",
    "        # ----+----+----+----+----+----+----+----+----+----+----+----+----+----+----+----+----+----+\n",
    "        self.rfc_selector = wx.ListCtrl(self,\n",
    "                                        id=wx.ID_ANY,\n",
    "                                        pos=wx.DefaultPosition,\n",
    "                                        size=wx.Size(200, 150),\n",
    "                                        style=wx.NO_BORDER | wx.TE_MULTILINE,\n",
    "                                        name='RfcSelector')\n",
    "\n",
    "        self.rfc_selector.InsertColumn(0, 'RFC Id', width=60)\n",
    "        self.rfc_selector.InsertColumn(1, 'Title', width=200)\n",
    "\n",
    "        self.rfc_selector.SetMinSize(wx.Size(500, 300))\n",
    "        self.rfc_selector.SetMaxSize(wx.Size(1000, 800))\n",
    "\n",
    "        # Need to distinguish between single and double click so\n",
    "        self.rfc_id = None\n",
    "\n",
    "        self.dbl_clk_delay = 250\n",
    "        self.rfc_selector.Bind(wx.EVT_LIST_ITEM_FOCUSED, self.run_summary)\n",
    "        self.rfc_selector.Bind(wx.EVT_LEFT_DCLICK, self.display_detail)\n",
    "\n",
    "        self.rfc_selector_load()\n",
    "\n",
    "        # Second pane is Rfc Summary window Data displayed in this window on single click in\n",
    "        # selection window.\n",
    "        # ----+----+----+----+----+----+----+----+----+----+----+----+----+----+----+----+----+----+\n",
    "        self.summary = wx.TextCtrl(self,\n",
    "                                   id=wx.ID_ANY,\n",
    "                                   value=\"Pane 2 - Summary Text Here\",\n",
    "                                   pos=wx.DefaultPosition,\n",
    "                                   size=wx.Size(200, 150),\n",
    "                                   style=wx.NO_BORDER | wx.TE_MULTILINE,\n",
    "                                   name='RfcSummary')\n",
    "\n",
    "        # Third pane (left top)  is a two tab notebook, one for text files and one for pdf files. One\n",
    "        # or both may be populated for any given RFC document.\n",
    "        # ----+----+----+----+----+----+----+----+----+----+----+----+----+----+----+----+----+----+\n",
    "        self.nb = aui.AuiNotebook(self,\n",
    "                                  id=wx.ID_ANY,\n",
    "                                  pos=wx.DefaultPosition,\n",
    "                                  size=wx.DefaultSize,\n",
    "                                  style=0,\n",
    "                                  agwStyle=wx.lib.agw.aui.AUI_NB_DEFAULT_STYLE,\n",
    "                                  name=\"RfcDocumentNotebook\")\n",
    "\n",
    "        self.text_page = wx.TextCtrl(self.nb,\n",
    "                                     id=wx.ID_ANY,\n",
    "                                     pos=wx.DefaultPosition,\n",
    "                                     size=wx.DefaultSize,\n",
    "                                     style=wx.NO_BORDER | wx.TE_MULTILINE,\n",
    "                                     name='DetailNotebookTabs')\n",
    "\n",
    "        self.pdf_page = wx.Panel(self.nb,\n",
    "                                 id=wx.ID_ANY,\n",
    "                                 pos=wx.DefaultPosition,\n",
    "                                 size=wx.DefaultSize,\n",
    "                                 style=wx.TAB_TRAVERSAL,\n",
    "                                 name='pdfpage')\n",
    "\n",
    "        hsizer = wx.BoxSizer(wx.HORIZONTAL)\n",
    "        vsizer = wx.BoxSizer(wx.VERTICAL)\n",
    "\n",
    "        self.btnpanl = pdfButtonPanel(self.pdf_page,\n",
    "                                      nid=wx.ID_ANY,\n",
    "                                      pos=wx.DefaultPosition,\n",
    "                                      size=wx.DefaultSize,\n",
    "                                      style=None)\n",
    "\n",
    "        vsizer.Add(self.btnpanl, 0, wx.GROW | wx.ALIGN_CENTER_VERTICAL | wx.LEFT | wx.RIGHT | wx.TOP, 5)\n",
    "\n",
    "        self.viewer = pdfViewer(self.pdf_page,\n",
    "                                nid=wx.ID_ANY,\n",
    "                                pos=wx.DefaultPosition,\n",
    "                                size=wx.DefaultSize,\n",
    "                                style=wx.HSCROLL | wx.VSCROLL | wx.VSCROLL | wx.SUNKEN_BORDER)\n",
    "\n",
    "        vsizer.Add(self.viewer, 1, wx.GROW | wx.LEFT | wx.RIGHT | wx.BOTTOM, 5)\n",
    "        hsizer.Add(vsizer, 1, wx.GROW | wx.ALIGN_CENTER_HORIZONTAL | wx.ALL, 5)\n",
    "\n",
    "        self.SetSizer(hsizer)\n",
    "        self.SetAutoLayout(True)\n",
    "\n",
    "        self.btnpanl.viewer = self.viewer\n",
    "        self.viewer.buttonpanel = self.btnpanl\n",
    "\n",
    "        self.nb.AddPage(self.text_page, \"Text Document\")\n",
    "        self.nb.AddPage(self.pdf_page, \"PDF Document\")\n",
    "\n",
    "        self._mgr.AddPane(self.rfc_selector, aui.AuiPaneInfo().Left().Caption(\"RFC Selection\"))\n",
    "        self._mgr.AddPane(self.summary, aui.AuiPaneInfo().Bottom().Caption(\"RFC Summary\"))\n",
    "        self._mgr.AddPane(self.nb, aui.AuiPaneInfo().CenterPane().Name('RFC Detail'))\n",
    "\n",
    "        # tell the manager to \"commit\" all the changes just made\n",
    "        self._mgr.Update()\n",
    "\n",
    "        self.Bind(wx.EVT_CLOSE, self.OnClose)\n",
    "\n",
    "    def error_msg(self, message):\n",
    "        \"\"\"\n",
    "        Display message in standard wx.MessageDialog\n",
    "        :param message: (string) Value to be displayed\n",
    "        :return: None\n",
    "        \"\"\"\n",
    "        msg_dlg = wx.MessageDialog(self, message, '', wx.OK | wx.ICON_ERROR)\n",
    "        msg_dlg.ShowModal()\n",
    "        msg_dlg.Show()\n",
    "        msg_dlg.Destroy()\n",
    "\n",
    "    def display_detail(self, event):\n",
    "        \"\"\"\n",
    "        Display the actual document. Improvement can be added to print from cache, and\n",
    "        only fetch from web if not in cache. This would require a update manager which\n",
    "        would check for new documents. Old documents are not changed at this time, so saving\n",
    "        documents would not be a problem.\n",
    "\n",
    "        Will display text documents in the text window. This is the desired mode, but if no text\n",
    "        document is available, will use a pdf is available (displayed in a separate yab).\n",
    "        :param event: The event that triggered this method.\n",
    "        :return: None\n",
    "        \"\"\"\n",
    "        # self.detail.Clear()\n",
    "        file_format = None\n",
    "        file_url = None\n",
    "        print(f'RFC Id: {self.rfc_id}')\n",
    "\n",
    "        try:\n",
    "            file_url = self.rfc_index[self.rfc_id]['text_file']\n",
    "            file_format = 'txt'\n",
    "        except KeyError:\n",
    "            try:\n",
    "                file_url = self.rfc_index[self.rfc_id]['pdf_file']\n",
    "                file_format = 'pdf'\n",
    "            except:\n",
    "                pass\n",
    "\n",
    "        if file_format is None:\n",
    "            self.text_page.AppendText(\"No URL listed for this file.\")\n",
    "        else:\n",
    "            wx.BeginBusyCursor()\n",
    "            self.rfc_document_data = self.download_file(file_url, file_format)\n",
    "            if file_format == 'txt':\n",
    "                # self.text_page = self.rfc_document_data\n",
    "                for line in self.rfc_document_data:\n",
    "                    self.text_page.AppendText(line)\n",
    "            else:\n",
    "                print('Pdf viewer not Yet Implemented')\n",
    "                # self.viewer.LoadFile(fitz.open(\"pdf\", self.rfc_document_data))\n",
    "                # print(pdf_doc.metadata)\n",
    "                # self.viewer.LoadFile(pdf_doc)\n",
    "                # self.viewer.LoadFile(self.rfc_document_data)\n",
    "            wx.EndBusyCursor()\n",
    "\n",
    "\n",
    "    def run_summary(self, event):\n",
    "        \"\"\"\n",
    "        Gets the data associated with single or double click in self.rfc_selector ListCtrl.\n",
    "        calls display_summary to render information.\n",
    "        :param event: The event that triggered this method.\n",
    "        :return: None (keeps event with Skip, so double click will still work).\n",
    "        \"\"\"\n",
    "        self.rfc_id = event.GetText()\n",
    "        self.display_summary()\n",
    "        event.Skip()\n",
    "\n",
    "    def display_summary(self):\n",
    "        \"\"\"\n",
    "        Display summary information in bottom pane. Called by run_summary event.\n",
    "        :return: None\n",
    "        \"\"\"\n",
    "        self.summary.Clear()\n",
    "        for key, value in self.rfc_index[self.rfc_id].items():\n",
    "            index = self.rfc_selector.GetItemCount()\n",
    "            self.summary.AppendText(f'{key}: {value}\\n')\n",
    "\n",
    "\n",
    "    def rfc_selector_load(self):\n",
    "        \"\"\"\n",
    "        Clears, then Loads self.rfc_selector ListCtrl with data from self.rfc_index dictionary.\n",
    "        :return: None\n",
    "        \"\"\"\n",
    "        self.rfc_selector.DeleteAllItems()\n",
    "        for key, value in self.rfc_index.items():\n",
    "            index = self.rfc_selector.GetItemCount()\n",
    "            self.rfc_selector.InsertItem(index, key)\n",
    "            self.rfc_selector.SetItem(index, 1, value['title'])\n",
    "\n",
    "    @staticmethod\n",
    "    def download_file(url, file_format):\n",
    "        \"\"\"\n",
    "        Download Rfc document\n",
    "        :return: document\n",
    "        \"\"\"\n",
    "        ok_status = 200\n",
    "        document = None\n",
    "        print(f'url: {url}')\n",
    "        doc = requests.get(url, allow_redirects=False)\n",
    "        if doc.status_code != ok_status:\n",
    "            print(f'status: {doc.status_code}')\n",
    "        if doc:\n",
    "            if file_format == 'txt':\n",
    "                document = doc.text\n",
    "            else:\n",
    "                document = doc.content\n",
    "        return document\n",
    "\n",
    "    def OnClose(self, event):\n",
    "        \"\"\"\n",
    "        Graceful exit, removes aui manager and reissues event\n",
    "        :param event: The event that triggered this method.\n",
    "        :return: None\n",
    "        \"\"\"\n",
    "        # deinitialize the frame manager\n",
    "        self._mgr.UnInit()\n",
    "        event.Skip()\n",
    "\n",
    "\n",
    "def main():\n",
    "    \"\"\"\n",
    "    Instanciate and execute wx.App and RfcViewer\n",
    "    :return:\n",
    "    \"\"\"\n",
    "    app = wx.App()\n",
    "    frame = RfcViewer(None)\n",
    "    app.SetTopWindow(frame)\n",
    "    frame.Show()\n",
    "    app.MainLoop()\n",
    "\n",
    "if __name__ == '__main__':\n",
    "    main()"
   ]
  },
  {
   "cell_type": "markdown",
   "metadata": {
    "slideshow": {
     "slide_type": "slide"
    }
   },
   "source": [
    "## Part 8 - ImageLib.py - Create icon8 icon index json file\n",
    "This class creates an icon image library directory (json) from the icons8 public domain icon library. These images will be used in this application for creation af a navigation pane for PDF documents in RfcViewer. I contains over 300 common menu icons with a fairly open license (Read license document in images directory)."
   ]
  },
  {
   "cell_type": "code",
   "execution_count": null,
   "metadata": {
    "slideshow": {
     "slide_type": "subslide"
    }
   },
   "outputs": [],
   "source": [
    "from pathlib import Path\n",
    "import RfcPaths\n",
    "import json\n",
    "\n",
    "\n",
    "class ImageLib:\n",
    "    def __init__(self):\n",
    "        \"\"\"\n",
    "        Initialize\n",
    "        \"\"\"\n",
    "        self.rpath = RfcPaths.RfcPaths()\n",
    "        self.image_list = None\n",
    "\n",
    "    def make_json(self):\n",
    "        \"\"\"\n",
    "        Create image list json file from dictionary, indexed by filename, and include file metadata.\n",
    "        :return: None\n",
    "        \"\"\"\n",
    "        self.image_list = [x for x in self.rpath.imagepath.iterdir() if x.is_file() and x.name.endswith('.png')]\n",
    "        stat_fields = ['st_mode', 'st_ino', 'st_dev', 'st_nlink', 'st_uid', 'st_gid', 'st_size', 'st_atime',\n",
    "                       'st_mtime', 'st_ctime']\n",
    "\n",
    "        image_dict = {}\n",
    "\n",
    "        for image_file in self.image_list:\n",
    "            stats = image_file.lstat()\n",
    "            image_dict[image_file.name] = {}\n",
    "            idx = image_dict[image_file.name]\n",
    "\n",
    "            for n, field in enumerate(stat_fields):\n",
    "                idx[field] = stats[n]\n",
    "\n",
    "        with self.rpath.imagedict.open('w') as fo:\n",
    "            json.dump(image_dict, fo)\n",
    "\n",
    "\n",
    "def testit():\n",
    "    \"\"\"\n",
    "    Test routine\n",
    "    :return: None\n",
    "    \"\"\"\n",
    "    il = ImageLib()\n",
    "    il.make_json()\n",
    "\n",
    "if __name__ == '__main__':\n",
    "    testit()"
   ]
  },
  {
   "cell_type": "markdown",
   "metadata": {
    "slideshow": {
     "slide_type": "slide"
    }
   },
   "source": [
    "## Part 9 - PdfAttempt.py - Pdf code that works ... sort of\n",
    "The following code was taken from the wxpython phoenix demo, and modified slightly to format that I thought might work for the viewer. There are, however, some issues with resizing where everything gets lost after playing for a while.\n",
    "This is what led me to create the image index for the icon8 icons. The idea is to create my own navagation menu, and to break\n",
    "the pdf into pages that could handle any of the various pdf file modes (There are at least eight that I know of).\n",
    "Alas, there was no way that I was going to finish this for the presentation tonight, so This is just a teaser, but included in the github repository if you want to play with it.\n",
    "\n",
    "I plan to finish, and update the repository within the next few weeks."
   ]
  },
  {
   "cell_type": "code",
   "execution_count": null,
   "metadata": {
    "slideshow": {
     "slide_type": "subslide"
    }
   },
   "outputs": [],
   "source": [
    "import wx\n",
    "import wx.lib.sized_controls as sc\n",
    "from wx.lib.pdfviewer import pdfViewer, pdfButtonPanel\n",
    "\n",
    "\n",
    "class PDFViewer(sc.SizedFrame):\n",
    "    def __init__(self, parent, **kwds):\n",
    "        super(PDFViewer, self).__init__(parent, **kwds)\n",
    "\n",
    "        paneCont = self.GetContentsPane()\n",
    "        self.buttonpanel = pdfButtonPanel(paneCont, wx.NewId(),\n",
    "                                wx.DefaultPosition, wx.DefaultSize, 0)\n",
    "        self.buttonpanel.SetSizerProps(expand=True)\n",
    "        self.viewer = pdfViewer(paneCont, wx.NewId(), wx.DefaultPosition,\n",
    "                                wx.DefaultSize,\n",
    "                                wx.HSCROLL|wx.VSCROLL|wx.SUNKEN_BORDER)\n",
    "        self.viewer.UsePrintDirect = False\n",
    "        self.viewer.SetSizerProps(expand=True, proportion=1)\n",
    "\n",
    "        # introduce buttonpanel and viewer to each other\n",
    "        self.buttonpanel.viewer = self.viewer\n",
    "        self.viewer.buttonpanel = self.buttonpanel\n",
    "\n",
    "\n",
    "if __name__ == '__main__':\n",
    "    import wx.lib.mixins.inspection as WIT\n",
    "    app = WIT.InspectableApp(redirect=False)\n",
    "\n",
    "\n",
    "    pdfV = PDFViewer(None, size=(800, 600))\n",
    "    pdfV.viewer.UsePrintDirect = False\n",
    "    pdfV.viewer.LoadFile('rfc8.pdf')\n",
    "    pdfV.Show()\n",
    "\n",
    "    app.MainLoop()"
   ]
  }
 ],
 "metadata": {
  "celltoolbar": "Slideshow",
  "kernelspec": {
   "display_name": "Python 3",
   "language": "python",
   "name": "python3"
  },
  "language_info": {
   "codemirror_mode": {
    "name": "ipython",
    "version": 3
   },
   "file_extension": ".py",
   "mimetype": "text/x-python",
   "name": "python",
   "nbconvert_exporter": "python",
   "pygments_lexer": "ipython3",
   "version": "3.6.4"
  },
  "toc": {
   "nav_menu": {},
   "number_sections": true,
   "sideBar": true,
   "skip_h1_title": true,
   "toc_cell": true,
   "toc_position": {},
   "toc_section_display": "block",
   "toc_window_display": false
  }
 },
 "nbformat": 4,
 "nbformat_minor": 2
}
